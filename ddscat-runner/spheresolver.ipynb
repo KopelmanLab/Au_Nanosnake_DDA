{
 "cells": [
  {
   "cell_type": "code",
   "execution_count": 2,
   "metadata": {
    "collapsed": true
   },
   "outputs": [],
   "source": [
    "import numpy as np"
   ]
  },
  {
   "cell_type": "code",
   "execution_count": 3,
   "metadata": {
    "collapsed": true
   },
   "outputs": [],
   "source": [
    "Ls = 20 #sphere radius for calculations\n",
    "spheres = 2 #number of spheres"
   ]
  },
  {
   "cell_type": "code",
   "execution_count": 4,
   "metadata": {
    "collapsed": false
   },
   "outputs": [],
   "source": [
    "offX = np.array([0,0])\n",
    "offY = np.array([0,45])\n",
    "offZ = np.array([0,0])\n",
    "\n",
    "## calculation parameters for output file documentation\n",
    "X = Ls #sphere radius\n",
    "Y = Ls\n",
    "Z = Ls\n",
    "Xd = X*2 #diameter\n",
    "Yd = Y*2\n",
    "Zd = Z*2\n",
    "\n",
    "coords = np.array([], ndmin=2)\n",
    "for off in range(0, spheres):\n",
    "    xco = np.arange(-X+offX[off], X+offX[off])\n",
    "    yco = np.arange(-Y+offY[off], Y+offY[off])\n",
    "    zco = np.arange(-Z+offZ[off], Z+offZ[off])\n",
    "    \n",
    "    # creates a list of all coordinates in the x,y,z cube that the sphere can exist in\n",
    "    coord_list = np.array(np.meshgrid(xco,yco,zco)).T.reshape(-1,3)\n",
    "    # conditional list to check which locations have distance from origin less than Ls\n",
    "    conds = (\n",
    "        (coord_list[:,0] - offX[off]) ** 2 + \n",
    "        (coord_list[:,1] - offY[off]) ** 2 + \n",
    "        (coord_list[:,2] - offZ[off]) ** 2\n",
    "    ) ** 0.5 <= Ls\n",
    "    \n",
    "    # extracts valid sphere coordinates\n",
    "    sphere_coords = coord_list[conds]\n",
    "    # appends to list of all sphere coords\n",
    "    coords = np.append(coords, sphere_coords)\n",
    "    \n",
    "coords = coords.reshape(-1, 3) "
   ]
  },
  {
   "cell_type": "code",
   "execution_count": 25,
   "metadata": {
    "collapsed": true
   },
   "outputs": [],
   "source": [
    "num_coords = coords.size / 3\n",
    "\n",
    "NX = offX.max() - offX.min() + 2 * Ls\n",
    "NY = offY.max() - offY.min() + 2 * Ls\n",
    "NZ = offZ.max() - offY.min() + 2 * Ls\n",
    "\n",
    "with open('shape.dat', 'w') as fp:\n",
    "    fp.write(' >PIPOBJ: point-in-polyhedron; NX,NY,NZ= %d %d %d ' % (NX, NY, NZ))\n",
    "    fp.write('\\r\\n %8.0f %8.0f = NAT, NIN' % (num_coords, d))\n",
    "    fp.write('\\r\\n 1.000000 0.000000 0.000000 = A_1 vector\\r\\n 0.000000 1.000000 0.000000 = A_2 vector')\n",
    "    fp.write('\\r\\n 1.000000 1.000000 1.000000 = lattice spacings(d_x,d_y,d_z)/d')\n",
    "    fp.write('\\r\\n 0.0 0.0 0.0 = lattice offset x0(1-3) =(x_TF,y_TF,z_TF)/d for dipole 0 0 0')\n",
    "    fp.write('\\r\\n       JA    IX    IY    IZ  ICOMP(x,y,z)')\n",
    "    for idx, coord in enumerate(coords):\n",
    "        fp.write('\\r\\n    {:>4}   {:>4}  {:>4}  {:>4}     {} {} {}'.format(idx + 1, int(coord[0]), int(coord[1]), int(coord[2]), 1, 1, 1))"
   ]
  },
  {
   "cell_type": "code",
   "execution_count": null,
   "metadata": {
    "collapsed": true
   },
   "outputs": [],
   "source": []
  },
  {
   "cell_type": "code",
   "execution_count": null,
   "metadata": {
    "collapsed": true
   },
   "outputs": [],
   "source": []
  }
 ],
 "metadata": {
  "kernelspec": {
   "display_name": "Python 3",
   "language": "python",
   "name": "python3"
  },
  "language_info": {
   "codemirror_mode": {
    "name": "ipython",
    "version": 3
   },
   "file_extension": ".py",
   "mimetype": "text/x-python",
   "name": "python",
   "nbconvert_exporter": "python",
   "pygments_lexer": "ipython3",
   "version": "3.6.3"
  }
 },
 "nbformat": 4,
 "nbformat_minor": 2
}
