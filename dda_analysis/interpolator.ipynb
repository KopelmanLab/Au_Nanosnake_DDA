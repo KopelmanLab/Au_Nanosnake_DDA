{
 "cells": [
  {
   "cell_type": "code",
   "execution_count": null,
   "metadata": {},
   "outputs": [],
   "source": [
    "import numpy as np\n",
    "import pandas as pd\n",
    "from scipy.interpolate import interp1d\n",
    "import matplotlib.pyplot as plt\n",
    "\n",
    "\n",
    "import matplotlib.pyplot as plt\n",
    "%matplotlib inline\n",
    "\n",
    "\n",
    "from glob import glob"
   ]
  },
  {
   "cell_type": "code",
   "execution_count": null,
   "metadata": {},
   "outputs": [],
   "source": [
    "all_q = {}\n",
    "x_dirs = glob('yz/*/')\n",
    "\n",
    "x_dirs[0].split('/')\n",
    "\n",
    "\n",
    "'1qtable'.split('1')"
   ]
  },
  {
   "cell_type": "code",
   "execution_count": null,
   "metadata": {},
   "outputs": [],
   "source": [
    "for x_dir in x_dirs:\n",
    "    chain_length = x_dir.split('/')[1]\n",
    "    qtables = glob(f'{x_dir}{chain_length}*')\n",
    "    print(qtables)\n",
    "    all_q[chain_length] = {}\n",
    "    for qtable in qtables:\n",
    "        spacing = qtable.split(f'{x_dir}{chain_length}')[1].split('qtable')[0]\n",
    "        \n",
    "        \n",
    "        with open(qtable) as fp:\n",
    "            #The first 14 lines of the qTable do not contain spectrum data\n",
    "            print(qtable)\n",
    "            for blank in range(0,14):\n",
    "                fp.readline()\n",
    "            wave = []\n",
    "            Q_ext = []\n",
    "            Q_abs = []\n",
    "            Q_sca = []\n",
    "            for k in range(350,801):\n",
    "                line = fp.readline()\n",
    "                ary = line.split(\" \")\n",
    "                ary = [a for a in ary if a]\n",
    "#                 print(ary[1:5])\n",
    "                ary = np.array(ary[1:5]).astype(np.float)\n",
    "                wave.append(float(ary[0]))\n",
    "                Q_ext.append(float(ary[1]))\n",
    "                Q_abs.append(float(ary[2]))\n",
    "                Q_sca.append(float(ary[3]))\n",
    "\n",
    "                \n",
    "            df = pd.DataFrame({'wave': wave, 'Q_ext': Q_ext, 'Q_abs': Q_abs, 'Q_sca': Q_sca})\n",
    "            all_q[chain_length][spacing] = df"
   ]
  },
  {
   "cell_type": "code",
   "execution_count": null,
   "metadata": {},
   "outputs": [],
   "source": [
    "from scipy.interpolate import UnivariateSpline\n",
    "unreg = all_q['24']['1'].dropna()\n",
    "spl = UnivariateSpline(unreg['wave'], unreg['Q_ext'])\n",
    "\n",
    "wl = np.arange(0.350, 0.800, 0.001)\n",
    "# inp = ((wl - w_mean)/w_std).reshape(-1, 1)\n",
    "\n",
    "spl.set_smoothing_factor(0.00001)\n",
    "preds = spl(wl) "
   ]
  },
  {
   "cell_type": "code",
   "execution_count": null,
   "metadata": {},
   "outputs": [],
   "source": [
    "plt.plot(all_q['24']['1']['wave'], all_q['24']['1']['Q_ext'], 'g')\n",
    "plt.plot(wl, preds, 'b')"
   ]
  },
  {
   "cell_type": "code",
   "execution_count": null,
   "metadata": {},
   "outputs": [],
   "source": [
    "all_q['24']['1'].loc[all_q['24']['1']['Q_ext'].isnull(), 'Q_ext'] "
   ]
  },
  {
   "cell_type": "code",
   "execution_count": null,
   "metadata": {},
   "outputs": [],
   "source": [
    "preds[all_q['24']['1']['Q_ext'].isnull()]"
   ]
  },
  {
   "cell_type": "code",
   "execution_count": null,
   "metadata": {},
   "outputs": [],
   "source": [
    "for n in all_q:\n",
    "    for spacing in all_q[n]:\n",
    "        \n",
    "        df = all_q[n][spacing]\n",
    "        df_copy = df.dropna()\n",
    "        spl = UnivariateSpline(np.array(df_copy['wave']), np.array(df_copy['Q_abs']))\n",
    "        wl = np.arange(0.350, 0.800, 0.001)\n",
    "        spl.set_smoothing_factor(0.000001)\n",
    "        preds = spl(wl) \n",
    "\n",
    "        df.loc[df['Q_ext'].isnull(), 'Q_ext'] = preds[df['Q_ext'].isnull()]\n",
    "        \n",
    "        all_q[n][spacing] = df"
   ]
  },
  {
   "cell_type": "code",
   "execution_count": null,
   "metadata": {},
   "outputs": [],
   "source": [
    "all_q['5']['1'][350:370]"
   ]
  },
  {
   "cell_type": "code",
   "execution_count": null,
   "metadata": {},
   "outputs": [],
   "source": [
    "df_list = {}\n",
    "for n in all_q:\n",
    "    n_list = []\n",
    "    for spacing in all_q[n]:\n",
    "        \n",
    "        cp = all_q[n][spacing].copy()\n",
    "        cp['spacing'] = float(spacing)\n",
    "        n_list.append(cp)\n",
    "    \n",
    "    df = pd.concat(n_list, axis=0)\n",
    "    df_list[n] = df\n",
    "    \n",
    "df_list['3'].head()"
   ]
  },
  {
   "cell_type": "code",
   "execution_count": null,
   "metadata": {},
   "outputs": [],
   "source": [
    "formatted_df = {}\n",
    "\n",
    "for n in df_list:\n",
    "    df = df_list[n]\n",
    "    new_df = pd.DataFrame()\n",
    "    for space in [1.0, 2.0, 3.0, 4.0]:\n",
    "        ser = df.loc[df['spacing'] == space, 'Q_ext']\n",
    "        if not ser.empty:\n",
    "            new_df[str(space)] = ser\n",
    "        \n",
    "    formatted_df[n] = new_df"
   ]
  },
  {
   "cell_type": "code",
   "execution_count": null,
   "metadata": {},
   "outputs": [],
   "source": [
    "df = df_list['5']\n",
    "new_df = pd.DataFrame()\n",
    "for space in [1.0, 2.0, 3.0, 4.0]:\n",
    "    ser = df.loc[df['spacing'] == space, 'Q_ext']\n",
    "    if not ser.empty:\n",
    "        new_df[str(space)] = ser"
   ]
  },
  {
   "cell_type": "code",
   "execution_count": null,
   "metadata": {},
   "outputs": [],
   "source": [
    "df = formatted_df['5']\n",
    "df[350:370]"
   ]
  },
  {
   "cell_type": "code",
   "execution_count": null,
   "metadata": {},
   "outputs": [],
   "source": [
    "for i in range(0, 451):\n",
    "    print(i)\n",
    "    print(df.loc[i])"
   ]
  },
  {
   "cell_type": "code",
   "execution_count": null,
   "metadata": {},
   "outputs": [],
   "source": [
    "from scipy import interpolate\n",
    "x = {}\n",
    "\n",
    "for n in range(2,36):\n",
    "    df = formatted_df[str(n)]\n",
    "    \n",
    "    y = []\n",
    "    print(n)\n",
    "    for i in range(0, 451):\n",
    "        columns = np.array(df.columns).astype(np.float)\n",
    "        vals = np.array(df.loc[i])\n",
    "        f = interpolate.interp1d(columns, vals, kind='quadratic', fill_value='extrapolate')\n",
    "        df_out = f(np.arange(0.8, 4.05, 0.05))\n",
    "        y.append(df_out)\n",
    "        \n",
    "    y = np.array(y)\n",
    "    x[n] = y"
   ]
  },
  {
   "cell_type": "code",
   "execution_count": null,
   "metadata": {},
   "outputs": [],
   "source": [
    "def mapper(inp):\n",
    "    return '%.2f' % (0.8 + 0.05 * float(inp))\n",
    "\n",
    "final = {}\n",
    "\n",
    "for n in x:\n",
    "    d = pd.DataFrame(x[n])\n",
    "    d = d.rename(columns=mapper)\n",
    "    wl_df = pd.DataFrame({'wl':np.arange(.350, .800, .001)})\n",
    "    out = wl_df.join(d)\n",
    "    print(out)\n",
    "    out.to_csv(f'yz_{n}_new_interp.csv')"
   ]
  },
  {
   "cell_type": "code",
   "execution_count": null,
   "metadata": {},
   "outputs": [],
   "source": [
    "from scipy.interpolate import BivariateSpline\n",
    "from scipy import interpolate\n",
    "\n",
    "\n",
    "ones = df_list[0][df_list[0]['spacing'] == 1.0].dropna()\n",
    "twos = df_list[0][df_list[0]['spacing'] == 2.0]\n",
    "threes = df_list[0][df_list[0]['spacing'] == 3.0]\n",
    "fours = df_list[0][df_list[0]['spacing'] == 4.0]\n",
    "\n",
    "\n",
    "# spl = BivariateSpline(ones['wave'], ones['spacing'], ones['Q_abs'], s=0.000001)\n",
    "\n",
    "\n",
    "# tck = interpolate.bisplrep(ones['wave'], ones['spacing'], ones['Q_abs'], s=0.1)\n",
    "# znew = interpolate.bisplev(ones['wave'], ones['spacing'], tck)\n",
    "\n",
    "# wl = np.arange(0.350, 0.800, 0.001)\n",
    "\n",
    "# preds = spl(ones['wave'], ones['spacing']) \n",
    "plt.plot(ones['wave'], ones['Q_abs'])\n",
    "plt.plot(twos['wave'], twos['Q_abs'])\n",
    "plt.plot(threes['wave'], threes['Q_abs'])\n",
    "plt.plot(fours['wave'], fours['Q_abs'])\n",
    "\n",
    "\n",
    "# plt.plot(ones['wave'], znew)"
   ]
  },
  {
   "cell_type": "code",
   "execution_count": null,
   "metadata": {},
   "outputs": [],
   "source": [
    "spl = UnivariateSpline([1.0, 2.0, 3.0, 4.0], [ones['Q_abs'][180], twos['Q_abs'][180], threes['Q_abs'][180], fours['Q_abs'][180]])"
   ]
  },
  {
   "cell_type": "code",
   "execution_count": null,
   "metadata": {},
   "outputs": [],
   "source": [
    "spl.set_smoothing_factor(0.01)\n",
    "plt.plot([1.0, 2.0, 3.0, 4.0], [ones['Q_abs'][180], twos['Q_abs'][180], threes['Q_abs'][180], fours['Q_abs'][180]])\n",
    "plt.plot([1.0, 2.0, 3.0, 4.0], [spl(1.0), spl(2.0), spl(3.0), spl(4.0)])"
   ]
  },
  {
   "cell_type": "code",
   "execution_count": null,
   "metadata": {},
   "outputs": [],
   "source": [
    "df_list[0]"
   ]
  },
  {
   "cell_type": "code",
   "execution_count": null,
   "metadata": {},
   "outputs": [],
   "source": []
  }
 ],
 "metadata": {
  "kernelspec": {
   "display_name": "Python 3",
   "language": "python",
   "name": "python3"
  },
  "language_info": {
   "codemirror_mode": {
    "name": "ipython",
    "version": 3
   },
   "file_extension": ".py",
   "mimetype": "text/x-python",
   "name": "python",
   "nbconvert_exporter": "python",
   "pygments_lexer": "ipython3",
   "version": "3.7.5-final"
  }
 },
 "nbformat": 4,
 "nbformat_minor": 2
}