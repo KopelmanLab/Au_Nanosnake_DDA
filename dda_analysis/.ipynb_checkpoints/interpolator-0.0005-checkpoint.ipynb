{
 "cells": [
  {
   "cell_type": "code",
   "execution_count": 1,
   "metadata": {},
   "outputs": [],
   "source": [
    "import numpy as np\n",
    "import pandas as pd\n",
    "from scipy.interpolate import interp1d\n",
    "import matplotlib.pyplot as plt\n",
    "\n",
    "\n",
    "import matplotlib.pyplot as plt\n",
    "%matplotlib inline\n",
    "\n",
    "\n",
    "from glob import glob"
   ]
  },
  {
   "cell_type": "code",
   "execution_count": 2,
   "metadata": {},
   "outputs": [
    {
     "data": {
      "text/plain": [
       "['', 'qtable']"
      ]
     },
     "execution_count": 2,
     "metadata": {},
     "output_type": "execute_result"
    }
   ],
   "source": [
    "all_q = {}\n",
    "x_dirs = glob('x/*/')\n",
    "\n",
    "x_dirs[0].split('/')\n",
    "\n",
    "\n",
    "'1qtable'.split('1')"
   ]
  },
  {
   "cell_type": "code",
   "execution_count": 3,
   "metadata": {},
   "outputs": [
    {
     "name": "stdout",
     "output_type": "stream",
     "text": [
      "['x/20/201qtable', 'x/20/203qtable', 'x/20/202qtable', 'x/20/204qtable']\n",
      "x/20/201qtable\n",
      "x/20/203qtable\n",
      "x/20/202qtable\n",
      "x/20/204qtable\n",
      "['x/18/183qtable', 'x/18/181qtable', 'x/18/184qtable', 'x/18/182qtable']\n",
      "x/18/183qtable\n",
      "x/18/181qtable\n",
      "x/18/184qtable\n",
      "x/18/182qtable\n",
      "['x/27/272qtable', 'x/27/274qtable', 'x/27/271qtable', 'x/27/273qtable']\n",
      "x/27/272qtable\n",
      "x/27/274qtable\n",
      "x/27/271qtable\n",
      "x/27/273qtable\n",
      "['x/9/92qtable', 'x/9/90qtable', 'x/9/91qtable', 'x/9/93qtable']\n",
      "x/9/92qtable\n",
      "x/9/90qtable\n",
      "x/9/91qtable\n",
      "x/9/93qtable\n",
      "['x/11/112qtable', 'x/11/110qtable', 'x/11/111qtable', 'x/11/113qtable']\n",
      "x/11/112qtable\n",
      "x/11/110qtable\n",
      "x/11/111qtable\n",
      "x/11/113qtable\n",
      "['x/7/70qtable', 'x/7/72qtable', 'x/7/73qtable', 'x/7/71qtable']\n",
      "x/7/70qtable\n",
      "x/7/72qtable\n",
      "x/7/73qtable\n",
      "x/7/71qtable\n",
      "['x/29/294qtable', 'x/29/292qtable', 'x/29/293qtable', 'x/29/291qtable']\n",
      "x/29/294qtable\n",
      "x/29/292qtable\n",
      "x/29/293qtable\n",
      "x/29/291qtable\n",
      "['x/16/161qtable', 'x/16/163qtable', 'x/16/162qtable', 'x/16/164qtable']\n",
      "x/16/161qtable\n",
      "x/16/163qtable\n",
      "x/16/162qtable\n",
      "x/16/164qtable\n",
      "['x/6/62qtable', 'x/6/60qtable', 'x/6/61qtable', 'x/6/63qtable']\n",
      "x/6/62qtable\n",
      "x/6/60qtable\n",
      "x/6/61qtable\n",
      "x/6/63qtable\n",
      "['x/28/284qtable', 'x/28/282qtable', 'x/28/281qtable', 'x/28/283qtable']\n",
      "x/28/284qtable\n",
      "x/28/282qtable\n",
      "x/28/281qtable\n",
      "x/28/283qtable\n",
      "['x/17/171qtable', 'x/17/173qtable_NAN', 'x/17/172qtable', 'x/17/174qtable']\n",
      "x/17/171qtable\n",
      "x/17/173qtable_NAN\n",
      "x/17/172qtable\n",
      "x/17/174qtable\n",
      "['x/1/10qtable']\n",
      "x/1/10qtable\n",
      "['x/10/100qtable', 'x/10/102qtable', 'x/10/103qtable', 'x/10/101qtable']\n",
      "x/10/100qtable\n",
      "x/10/102qtable\n",
      "x/10/103qtable\n",
      "x/10/101qtable\n",
      "['x/19/194qtable_NAN', 'x/19/191qtable', 'x/19/193qtable', 'x/19/192qtable']\n",
      "x/19/194qtable_NAN\n",
      "x/19/191qtable\n",
      "x/19/193qtable\n",
      "x/19/192qtable\n",
      "['x/26/262qtable', 'x/26/264qtable', 'x/26/263qtable', 'x/26/261qtable']\n",
      "x/26/262qtable\n",
      "x/26/264qtable\n",
      "x/26/263qtable\n",
      "x/26/261qtable\n",
      "['x/8/80qtable', 'x/8/82qtable', 'x/8/83qtable', 'x/8/81qtable_NAN']\n",
      "x/8/80qtable\n",
      "x/8/82qtable\n",
      "x/8/83qtable\n",
      "x/8/81qtable_NAN\n",
      "['x/21/213qtable', 'x/21/211qtable', 'x/21/212qtable', 'x/21/214qtable']\n",
      "x/21/213qtable\n",
      "x/21/211qtable\n",
      "x/21/212qtable\n",
      "x/21/214qtable\n",
      "['x/30/303qtable', 'x/30/301qtable', 'x/30/304qtable', 'x/30/302qtable']\n",
      "x/30/303qtable\n",
      "x/30/301qtable\n",
      "x/30/304qtable\n",
      "x/30/302qtable\n",
      "['x/24/244qtable', 'x/24/242qtable', 'x/24/241qtable', 'x/24/243qtable']\n",
      "x/24/244qtable\n",
      "x/24/242qtable\n",
      "x/24/241qtable\n",
      "x/24/243qtable\n",
      "['x/23/231qtable', 'x/23/233qtable', 'x/23/234qtable', 'x/23/232qtable']\n",
      "x/23/231qtable\n",
      "x/23/233qtable\n",
      "x/23/234qtable\n",
      "x/23/232qtable\n",
      "['x/4/40qtable', 'x/4/42qtable', 'x/4/43qtable', 'x/4/41qtable']\n",
      "x/4/40qtable\n",
      "x/4/42qtable\n",
      "x/4/43qtable\n",
      "x/4/41qtable\n",
      "['x/15/151qtable', 'x/15/153qtable', 'x/15/154qtable', 'x/15/152qtable']\n",
      "x/15/151qtable\n",
      "x/15/153qtable\n",
      "x/15/154qtable\n",
      "x/15/152qtable\n",
      "['x/3/33qtable', 'x/3/31qtable', 'x/3/30qtable', 'x/3/32qtable']\n",
      "x/3/33qtable\n",
      "x/3/31qtable\n",
      "x/3/30qtable\n",
      "x/3/32qtable\n",
      "['x/12/120qtable', 'x/12/121qtable', 'x/12/123qtable', 'x/12/122qtable_NAN']\n",
      "x/12/120qtable\n",
      "x/12/121qtable\n",
      "x/12/123qtable\n",
      "x/12/122qtable_NAN\n",
      "['x/2/21qtable', 'x/2/23qtable', 'x/2/22qtable', 'x/2/20qtable']\n",
      "x/2/21qtable\n",
      "x/2/23qtable\n",
      "x/2/22qtable\n",
      "x/2/20qtable\n",
      "['x/13/130qtable', 'x/13/132qtable', 'x/13/133qtable', 'x/13/131qtable']\n",
      "x/13/130qtable\n",
      "x/13/132qtable\n",
      "x/13/133qtable\n",
      "x/13/131qtable\n",
      "['x/5/52qtable', 'x/5/50qtable', 'x/5/51qtable', 'x/5/53qtable']\n",
      "x/5/52qtable\n",
      "x/5/50qtable\n",
      "x/5/51qtable\n",
      "x/5/53qtable\n",
      "['x/14/143qtable', 'x/14/141qtable', 'x/14/140qtable', 'x/14/142qtable']\n",
      "x/14/143qtable\n",
      "x/14/141qtable\n",
      "x/14/140qtable\n",
      "x/14/142qtable\n",
      "['x/22/223qtable', 'x/22/221qtable', 'x/22/224qtable', 'x/22/222qtable']\n",
      "x/22/223qtable\n",
      "x/22/221qtable\n",
      "x/22/224qtable\n",
      "x/22/222qtable\n",
      "['x/25/254qtable', 'x/25/252qtable', 'x/25/253qtable', 'x/25/251qtable']\n",
      "x/25/254qtable\n",
      "x/25/252qtable\n",
      "x/25/253qtable\n",
      "x/25/251qtable\n"
     ]
    }
   ],
   "source": [
    "for x_dir in x_dirs:\n",
    "    chain_length = x_dir.split('/')[1]\n",
    "    qtables = glob(f'{x_dir}{chain_length}*')\n",
    "    print(qtables)\n",
    "    all_q[chain_length] = {}\n",
    "    for qtable in qtables:\n",
    "        spacing = qtable.split(f'{x_dir}{chain_length}')[1].split('qtable')[0]\n",
    "        \n",
    "        \n",
    "        with open(qtable) as fp:\n",
    "            #The first 14 lines of the qTable do not contain spectrum data\n",
    "            print(qtable)\n",
    "            for blank in range(0,14):\n",
    "                fp.readline()\n",
    "            wave = []\n",
    "            Q_ext = []\n",
    "            Q_abs = []\n",
    "            Q_sca = []\n",
    "            for k in range(350,801):\n",
    "                line = fp.readline()\n",
    "                ary = line.split(\" \")\n",
    "                ary = [a for a in ary if a]\n",
    "#                 print(ary[1:5])\n",
    "                ary = np.array(ary[1:5]).astype(np.float)\n",
    "                wave.append(float(ary[0]))\n",
    "                Q_ext.append(float(ary[1]))\n",
    "                Q_abs.append(float(ary[2]))\n",
    "                Q_sca.append(float(ary[3]))\n",
    "\n",
    "                \n",
    "            df = pd.DataFrame({'wave': wave, 'Q_ext': Q_ext, 'Q_abs': Q_abs, 'Q_sca': Q_sca})\n",
    "            all_q[chain_length][spacing] = df"
   ]
  },
  {
   "cell_type": "code",
   "execution_count": 4,
   "metadata": {},
   "outputs": [],
   "source": [
    "from scipy.interpolate import UnivariateSpline\n",
    "unreg = all_q['24']['1'].dropna()\n",
    "spl = UnivariateSpline(unreg['wave'], unreg['Q_ext'])\n",
    "\n",
    "wl = np.arange(0.350, 0.800, 0.001)\n",
    "# inp = ((wl - w_mean)/w_std).reshape(-1, 1)\n",
    "\n",
    "spl.set_smoothing_factor(0.00001)\n",
    "preds = spl(wl) "
   ]
  },
  {
   "cell_type": "code",
   "execution_count": 5,
   "metadata": {},
   "outputs": [
    {
     "data": {
      "text/plain": [
       "[<matplotlib.lines.Line2D at 0xb23247ba8>]"
      ]
     },
     "execution_count": 5,
     "metadata": {},
     "output_type": "execute_result"
    },
    {
     "data": {
      "image/png": "[encoded data removed]",
      "text/plain": [
       "<Figure size 432x288 with 1 Axes>"
      ]
     },
     "metadata": {
      "needs_background": "light"
     },
     "output_type": "display_data"
    }
   ],
   "source": [
    "plt.plot(all_q['24']['1']['wave'], all_q['24']['1']['Q_ext'], 'g')\n",
    "plt.plot(wl, preds, 'b')"
   ]
  },
  {
   "cell_type": "code",
   "execution_count": 6,
   "metadata": {},
   "outputs": [
    {
     "data": {
      "text/plain": [
       "Series([], Name: Q_ext, dtype: float64)"
      ]
     },
     "execution_count": 6,
     "metadata": {},
     "output_type": "execute_result"
    }
   ],
   "source": [
    "all_q['24']['1'].loc[all_q['24']['1']['Q_ext'].isnull(), 'Q_ext'] "
   ]
  },
  {
   "cell_type": "code",
   "execution_count": 7,
   "metadata": {},
   "outputs": [
    {
     "data": {
      "text/plain": [
       "array([], dtype=float64)"
      ]
     },
     "execution_count": 7,
     "metadata": {},
     "output_type": "execute_result"
    }
   ],
   "source": [
    "preds[all_q['24']['1']['Q_ext'].isnull()]"
   ]
  },
  {
   "cell_type": "code",
   "execution_count": 8,
   "metadata": {},
   "outputs": [
    {
     "ename": "IndexError",
     "evalue": "boolean index did not match indexed array along dimension 0; dimension is 901 but corresponding boolean dimension is 451",
     "output_type": "error",
     "traceback": [
      "\u001b[0;31m---------------------------------------------------------------------------\u001b[0m",
      "\u001b[0;31mIndexError\u001b[0m                                Traceback (most recent call last)",
      "\u001b[0;32m<ipython-input-8-aefd11dcfda3>\u001b[0m in \u001b[0;36m<module>\u001b[0;34m\u001b[0m\n\u001b[1;32m      9\u001b[0m         \u001b[0mpreds\u001b[0m \u001b[0;34m=\u001b[0m \u001b[0mspl\u001b[0m\u001b[0;34m(\u001b[0m\u001b[0mwl\u001b[0m\u001b[0;34m)\u001b[0m\u001b[0;34m\u001b[0m\u001b[0;34m\u001b[0m\u001b[0m\n\u001b[1;32m     10\u001b[0m \u001b[0;34m\u001b[0m\u001b[0m\n\u001b[0;32m---> 11\u001b[0;31m         \u001b[0mdf\u001b[0m\u001b[0;34m.\u001b[0m\u001b[0mloc\u001b[0m\u001b[0;34m[\u001b[0m\u001b[0mdf\u001b[0m\u001b[0;34m[\u001b[0m\u001b[0;34m'Q_ext'\u001b[0m\u001b[0;34m]\u001b[0m\u001b[0;34m.\u001b[0m\u001b[0misnull\u001b[0m\u001b[0;34m(\u001b[0m\u001b[0;34m)\u001b[0m\u001b[0;34m,\u001b[0m \u001b[0;34m'Q_ext'\u001b[0m\u001b[0;34m]\u001b[0m \u001b[0;34m=\u001b[0m \u001b[0mpreds\u001b[0m\u001b[0;34m[\u001b[0m\u001b[0mdf\u001b[0m\u001b[0;34m[\u001b[0m\u001b[0;34m'Q_ext'\u001b[0m\u001b[0;34m]\u001b[0m\u001b[0;34m.\u001b[0m\u001b[0misnull\u001b[0m\u001b[0;34m(\u001b[0m\u001b[0;34m)\u001b[0m\u001b[0;34m]\u001b[0m\u001b[0;34m\u001b[0m\u001b[0;34m\u001b[0m\u001b[0m\n\u001b[0m\u001b[1;32m     12\u001b[0m \u001b[0;34m\u001b[0m\u001b[0m\n\u001b[1;32m     13\u001b[0m         \u001b[0mall_q\u001b[0m\u001b[0;34m[\u001b[0m\u001b[0mn\u001b[0m\u001b[0;34m]\u001b[0m\u001b[0;34m[\u001b[0m\u001b[0mspacing\u001b[0m\u001b[0;34m]\u001b[0m \u001b[0;34m=\u001b[0m \u001b[0mdf\u001b[0m\u001b[0;34m\u001b[0m\u001b[0;34m\u001b[0m\u001b[0m\n",
      "\u001b[0;31mIndexError\u001b[0m: boolean index did not match indexed array along dimension 0; dimension is 901 but corresponding boolean dimension is 451"
     ]
    }
   ],
   "source": [
    "for n in all_q:\n",
    "    for spacing in all_q[n]:\n",
    "        \n",
    "        df = all_q[n][spacing]\n",
    "        df_copy = df.dropna()\n",
    "        spl = UnivariateSpline(np.array(df_copy['wave']), np.array(df_copy['Q_abs']))\n",
    "        wl = np.arange(0.350, 0.800, 0.001)\n",
    "        spl.set_smoothing_factor(0.000001)\n",
    "        preds = spl(wl) \n",
    "\n",
    "        df.loc[df['Q_ext'].isnull(), 'Q_ext'] = preds[df['Q_ext'].isnull()]\n",
    "        \n",
    "        all_q[n][spacing] = df"
   ]
  },
  {
   "cell_type": "code",
   "execution_count": null,
   "metadata": {},
   "outputs": [],
   "source": [
    "all_q['5']['1'][350:370]"
   ]
  },
  {
   "cell_type": "code",
   "execution_count": null,
   "metadata": {},
   "outputs": [],
   "source": [
    "df_list = {}\n",
    "for n in all_q:\n",
    "    n_list = []\n",
    "    for spacing in all_q[n]:\n",
    "        \n",
    "        cp = all_q[n][spacing].copy()\n",
    "        cp['spacing'] = float(spacing)\n",
    "        n_list.append(cp)\n",
    "    \n",
    "    df = pd.concat(n_list, axis=0)\n",
    "    df_list[n] = df\n",
    "    \n",
    "df_list['3'].head()"
   ]
  },
  {
   "cell_type": "code",
   "execution_count": null,
   "metadata": {},
   "outputs": [],
   "source": [
    "formatted_df = {}\n",
    "\n",
    "for n in df_list:\n",
    "    df = df_list[n]\n",
    "    new_df = pd.DataFrame()\n",
    "    for space in [1.0, 2.0, 3.0, 4.0]:\n",
    "        ser = df.loc[df['spacing'] == space, 'Q_ext']\n",
    "        if not ser.empty:\n",
    "            new_df[str(space)] = ser\n",
    "        \n",
    "    formatted_df[n] = new_df"
   ]
  },
  {
   "cell_type": "code",
   "execution_count": null,
   "metadata": {},
   "outputs": [],
   "source": [
    "df = df_list['5']\n",
    "new_df = pd.DataFrame()\n",
    "for space in [1.0, 2.0, 3.0, 4.0]:\n",
    "    ser = df.loc[df['spacing'] == space, 'Q_ext']\n",
    "    if not ser.empty:\n",
    "        new_df[str(space)] = ser"
   ]
  },
  {
   "cell_type": "code",
   "execution_count": null,
   "metadata": {},
   "outputs": [],
   "source": [
    "df = formatted_df['5']\n",
    "df[350:370]"
   ]
  },
  {
   "cell_type": "code",
   "execution_count": null,
   "metadata": {},
   "outputs": [],
   "source": [
    "for i in range(0, 451):\n",
    "    print(i)\n",
    "    print(df.loc[i])"
   ]
  },
  {
   "cell_type": "code",
   "execution_count": null,
   "metadata": {},
   "outputs": [],
   "source": [
    "from scipy import interpolate\n",
    "x = {}\n",
    "\n",
    "for n in range(2,31):\n",
    "    df = formatted_df[str(n)]\n",
    "    \n",
    "    y = []\n",
    "    print(n)\n",
    "    for i in range(0, 451):\n",
    "        columns = np.array(df.columns).astype(np.float)\n",
    "        vals = np.array(df.loc[i])\n",
    "        f = interpolate.interp1d(columns, vals, kind='quadratic', fill_value='extrapolate')\n",
    "        df_out = f(np.arange(0.8, 4.05, 0.05))\n",
    "        y.append(df_out)\n",
    "        \n",
    "    y = np.array(y)\n",
    "    x[n] = y"
   ]
  },
  {
   "cell_type": "code",
   "execution_count": null,
   "metadata": {},
   "outputs": [],
   "source": [
    "def mapper(inp):\n",
    "    return '%.2f' % (0.8 + 0.05 * float(inp))\n",
    "\n",
    "final = {}\n",
    "\n",
    "for n in x:\n",
    "    d = pd.DataFrame(x[n])\n",
    "    d = d.rename(columns=mapper)\n",
    "    wl_df = pd.DataFrame({'wl':np.arange(.350, .800, .001)})\n",
    "    out = wl_df.join(d)\n",
    "    print(out)\n",
    "    out.to_csv(f'x_{n}_new_interp.csv')"
   ]
  },
  {
   "cell_type": "code",
   "execution_count": null,
   "metadata": {},
   "outputs": [],
   "source": [
    "from scipy.interpolate import BivariateSpline\n",
    "from scipy import interpolate\n",
    "\n",
    "\n",
    "ones = df_list[0][df_list[0]['spacing'] == 1.0].dropna()\n",
    "twos = df_list[0][df_list[0]['spacing'] == 2.0]\n",
    "threes = df_list[0][df_list[0]['spacing'] == 3.0]\n",
    "fours = df_list[0][df_list[0]['spacing'] == 4.0]\n",
    "\n",
    "\n",
    "# spl = BivariateSpline(ones['wave'], ones['spacing'], ones['Q_abs'], s=0.000001)\n",
    "\n",
    "\n",
    "# tck = interpolate.bisplrep(ones['wave'], ones['spacing'], ones['Q_abs'], s=0.1)\n",
    "# znew = interpolate.bisplev(ones['wave'], ones['spacing'], tck)\n",
    "\n",
    "# wl = np.arange(0.350, 0.800, 0.001)\n",
    "\n",
    "# preds = spl(ones['wave'], ones['spacing']) \n",
    "plt.plot(ones['wave'], ones['Q_abs'])\n",
    "plt.plot(twos['wave'], twos['Q_abs'])\n",
    "plt.plot(threes['wave'], threes['Q_abs'])\n",
    "plt.plot(fours['wave'], fours['Q_abs'])\n",
    "\n",
    "\n",
    "# plt.plot(ones['wave'], znew)"
   ]
  },
  {
   "cell_type": "code",
   "execution_count": null,
   "metadata": {},
   "outputs": [],
   "source": [
    "spl = UnivariateSpline([1.0, 2.0, 3.0, 4.0], [ones['Q_abs'][180], twos['Q_abs'][180], threes['Q_abs'][180], fours['Q_abs'][180]])"
   ]
  },
  {
   "cell_type": "code",
   "execution_count": null,
   "metadata": {},
   "outputs": [],
   "source": [
    "spl.set_smoothing_factor(0.01)\n",
    "plt.plot([1.0, 2.0, 3.0, 4.0], [ones['Q_abs'][180], twos['Q_abs'][180], threes['Q_abs'][180], fours['Q_abs'][180]])\n",
    "plt.plot([1.0, 2.0, 3.0, 4.0], [spl(1.0), spl(2.0), spl(3.0), spl(4.0)])"
   ]
  },
  {
   "cell_type": "code",
   "execution_count": null,
   "metadata": {},
   "outputs": [],
   "source": [
    "df_list[0]"
   ]
  },
  {
   "cell_type": "code",
   "execution_count": null,
   "metadata": {},
   "outputs": [],
   "source": []
  }
 ],
 "metadata": {
  "kernelspec": {
   "display_name": "Python 3",
   "language": "python",
   "name": "python3"
  },
  "language_info": {
   "codemirror_mode": {
    "name": "ipython",
    "version": 3
   },
   "file_extension": ".py",
   "mimetype": "text/x-python",
   "name": "python",
   "nbconvert_exporter": "python",
   "pygments_lexer": "ipython3",
   "version": "3.7.3"
  }
 },
 "nbformat": 4,
 "nbformat_minor": 2
}
