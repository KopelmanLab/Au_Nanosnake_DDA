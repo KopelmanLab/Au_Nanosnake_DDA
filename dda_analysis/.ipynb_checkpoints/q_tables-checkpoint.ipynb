{
 "cells": [
  {
   "cell_type": "code",
   "execution_count": 4,
   "metadata": {},
   "outputs": [],
   "source": [
    "from glob import glob\n",
    "import pandas as pd\n",
    "import matplotlib.pyplot as plt\n",
    "%matplotlib inline\n"
   ]
  },
  {
   "cell_type": "code",
   "execution_count": 5,
   "metadata": {},
   "outputs": [],
   "source": [
    "exps = glob('Compiled/*')\n",
    "vcs = glob('Inbal/*/value_counts*')\n",
    "\n",
    "convert = {\n",
    "    '590': '10',\n",
    "    '610': '8',\n",
    "    '620': '7',\n",
    "    '630': '6a',\n",
    "    '640': '6B',\n",
    "}"
   ]
  },
  {
   "cell_type": "code",
   "execution_count": 6,
   "metadata": {},
   "outputs": [],
   "source": [
    "vc_dict = {}\n",
    "\n",
    "for vc in vcs:\n",
    "    key = vc.split('/')[1]\n",
    "    test = pd.read_csv(vc)\n",
    "    vc_dict[key] = test"
   ]
  },
  {
   "cell_type": "code",
   "execution_count": null,
   "metadata": {},
   "outputs": [],
   "source": [
    "exp_dict = {}\n",
    "\n",
    "for exp in exps:\n",
    "\n",
    "    nm = exp.split('_')[1].split(' ')[0]\n",
    "    \n",
    "    with open(exp) as fp:\n",
    "        #The first 14 lines of the qTable do not contain spectrum data\n",
    "        for blank in range(0,2):\n",
    "            fp.readline()\n",
    "        wave = []\n",
    "        Q_ext = []\n",
    "#         Q_abs = []\n",
    "#         Q_sca = []\n",
    "        for line in fp:\n",
    "            ary = line.split(\",\")\n",
    "            wave.append(float(ary[0]))\n",
    "            Q_ext.append(float(ary[1]))\n",
    "\n",
    "\n",
    "        df = pd.DataFrame({'wave': wave, q: Q_ext})\n",
    "        exp_dict[nm] = df\n",
    "        exp_dict[nm] = exp_dict[nm].drop(range(0, 100)).reset_index(drop=True)\n",
    "#         exp_dict[nm] = exp_dict[nm].iloc[::2, :].reset_index(drop=True)"
   ]
  },
  {
   "cell_type": "code",
   "execution_count": 7,
   "metadata": {},
   "outputs": [],
   "source": [
    "q = 'Q_abs'\n",
    "x_dict = {}\n",
    "for x in glob(f'x_*_new_interp_{q}.csv'):\n",
    "    test = pd.read_csv(x)\n",
    "    x_dict[int(x.split('_')[1])] = test\n",
    "\n",
    "    \n",
    "yz_dict = {}\n",
    "for yz in glob(f'yz_*_new_interp_{q}.csv'):\n",
    "    test = pd.read_csv(yz)\n",
    "    yz_dict[int(yz.split('_')[1])] = test\n",
    "    \n",
    "net_dict = {}\n",
    "for key in x_dict:\n",
    "    net_dict[key] = x_dict[key] * (1.0/3.0) + yz_dict[key] * (2.0/3.0)"
   ]
  },
  {
   "cell_type": "code",
   "execution_count": null,
   "metadata": {},
   "outputs": [],
   "source": [
    "import numpy as np\n",
    "\n",
    "best_dict = {}\n",
    "\n",
    "for peak in convert:\n",
    "    print(peak)\n",
    "    exp_temp = exp_dict[peak]\n",
    "    \n",
    "    vc_temp = vc_dict[convert[peak]]\n",
    "    vc_temp = vc_temp.reset_index()\n",
    "    \n",
    "    sp = 1.15\n",
    "    total_count = 0\n",
    "\n",
    "    test_spectra = exp_dict[peak].copy()\n",
    "    test_spectra[q] = 0.0\n",
    "    \n",
    "    for _, row in vc_temp.iterrows():\n",
    "\n",
    "        leng = row['Size']\n",
    "        num = row['Count']\n",
    "\n",
    "        if leng > 35:\n",
    "            break\n",
    "\n",
    "        spdf = net_dict[leng]['%.2f' % sp]\n",
    "        test_spectra[q] += spdf * num\n",
    "        total_count += num\n",
    "\n",
    "    test_spectra[q] = test_spectra[q] / total_count\n",
    "\n",
    "    plt.plot(test_spectra['wave'], test_spectra[q], label='theory')\n",
    "    plt.legend()\n",
    "\n",
    "    plt.title(f'{q}_{sp}nm_spacing')\n",
    "    plt.xlabel(f'Wavelength (nm)')\n",
    "    plt.ylabel(f'Intensity (arbitrary units)')\n",
    "    plt.savefig(f'{peak}_sample.png')\n",
    "    plt.close()\n",
    "    \n",
    "    df = pd.DataFrame({'wl': best_testing['wave'], 'computed': best_testing['Q_ext']})\n",
    "    df.to_csv(f'{q}_sample.csv')"
   ]
  }
 ],
 "metadata": {
  "kernelspec": {
   "display_name": "Python 3",
   "language": "python",
   "name": "python3"
  },
  "language_info": {
   "codemirror_mode": {
    "name": "ipython",
    "version": 3
   },
   "file_extension": ".py",
   "mimetype": "text/x-python",
   "name": "python",
   "nbconvert_exporter": "python",
   "pygments_lexer": "ipython3",
   "version": "3.7.6"
  }
 },
 "nbformat": 4,
 "nbformat_minor": 4
}
